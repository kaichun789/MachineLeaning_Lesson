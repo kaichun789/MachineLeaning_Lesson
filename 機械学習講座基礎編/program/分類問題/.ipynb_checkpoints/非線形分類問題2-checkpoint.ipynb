{
 "cells": [
  {
   "cell_type": "markdown",
   "metadata": {},
   "source": [
    "# 非線形分類問題 勾配降下法"
   ]
  },
  {
   "cell_type": "markdown",
   "metadata": {},
   "source": [
    "## データセットの作成"
   ]
  },
  {
   "cell_type": "code",
   "execution_count": 43,
   "metadata": {},
   "outputs": [
    {
     "data": {
      "image/png": "[encoded data removed]",
      "text/plain": [
       "<Figure size 432x288 with 1 Axes>"
      ]
     },
     "metadata": {
      "needs_background": "light"
     },
     "output_type": "display_data"
    }
   ],
   "source": [
    "%matplotlib inline\n",
    "import numpy as np\n",
    "import matplotlib.pyplot as plt\n",
    "import matplotlib.cm as cm\n",
    "\n",
    "#seed値\n",
    "np.random.seed(1)\n",
    "\n",
    "#色の定義\n",
    "colors=(\"red\",\"blue\",\"green\",\"gray\",\"orange\")\n",
    "\n",
    "#X(入力データ)の作成\n",
    "#↓サンプル数\n",
    "num_of_sam = 50\n",
    "#↓ガウシアンノイズの広がり具合\n",
    "std_dv = 0.7\n",
    "radius = 5\n",
    "#↓中心データの生成\n",
    "x_center = np.random.randn(num_of_sam,2)*std_dv\n",
    "#↓環状データの生成\n",
    "s = np.random.uniform(0,2*np.pi,num_of_sam)\n",
    "x1 = np.sin(s)*radius\n",
    "x2 = np.cos(s)*radius\n",
    "x_circle = np.c_[x1,x2]\n",
    "#↓2つのグループを縦方向に連結しXとする\n",
    "X = np.vstack((x_center,x_circle))\n",
    "\n",
    "#T(正解データ)の作成\n",
    "#↓グループ1の正解データを0とする\n",
    "t_group1 = np.tile(0,(num_of_sam))\n",
    "#↓グループ2の正解データを1とする\n",
    "t_group2 = np.tile(1,(num_of_sam))\n",
    "#↓グループを横方向に連結し1次元の正解データを作成\n",
    "T_vector = np.hstack((t_group1,t_group2))\n",
    "#↓one-hot表現の正解データを作成\n",
    "T = np.eye(len(np.unique(T_vector)))[T_vector]\n",
    "\n",
    "#プロットを行う\n",
    "#↓X,Tをもとに色付きの点をプロットする\n",
    "for i in np.unique(T_vector):\n",
    "    plt.scatter(x=X[T_vector==i,0],y=X[T_vector==i,1],s=10,c=colors[i])\n",
    "plt.title(\"Correct Data\",fontsize=25)\n",
    "plt.xlabel(\"X1\",fontsize=18)\n",
    "plt.ylabel(\"X2\",fontsize=18)\n",
    "plt.show()"
   ]
  },
  {
   "cell_type": "markdown",
   "metadata": {},
   "source": [
    "## 学習"
   ]
  },
  {
   "cell_type": "code",
   "execution_count": 49,
   "metadata": {},
   "outputs": [],
   "source": [
    "#シグモイド関数の作成\n",
    "def sigmoid(x):\n",
    "    return 1 / (1 + np.exp(-x))\n",
    "\n",
    "#ソフトマックス関数の作成\n",
    "def softmax(x):\n",
    "    return np.exp(x) / np.sum(np.exp(x), axis=1, keepdims=True)\n",
    "\n",
    "#クロスエントロピー誤差の関数を作成\n",
    "def cross_entropy(Y,T):\n",
    "    return -np.sum(T*np.log(Y+1e-7))\n",
    "\n",
    "#隠れ層の数\n",
    "dimention = 10\n",
    "\n",
    "#重みを生成(初期値を平均0，分散1の乱数で生成)\n",
    "W1 = np.random.randn(2,dimention)\n",
    "W2 = np.random.randn(dimention,2)\n",
    "#バイアスを生成(初期値を平均0，分散1の乱数で生成)\n",
    "B1 = np.random.randn(1,dimention)\n",
    "B2 = np.random.randn(1,2)\n",
    "#学習率の設定\n",
    "eta = 0.001\n",
    "#イテレーション数の設定\n",
    "iteration = 10000\n",
    "#損失の推移保存リスト\n",
    "E_save = np.array([])\n",
    "\n",
    "#学習\n",
    "for i in range(iteration):\n",
    "    \n",
    "    #--順伝番 Forward propagation--\n",
    "    #↓出力の計算\n",
    "    H = sigmoid(np.dot(X,W1)+B1)\n",
    "    Y = softmax(np.dot(H,W2)+B2)\n",
    "    \n",
    "    #--逆伝番 Backward propagation--\n",
    "    #↓損失の計算(クロスエントロピー誤差を用いる)\n",
    "    E = cross_entropy(Y,T)\n",
    "    #損失の保存\n",
    "    E_save = np.append(E_save,E)\n",
    "    #↓EをWで偏微分する\n",
    "    dW2 = np.dot(H.T,Y-T)\n",
    "    #↓EをBで偏微分する\n",
    "    dB2 = np.sum(Y-T,axis=0,keepdims=True)\n",
    "    #↓EをWで偏微分する\n",
    "    dW1 = np.dot(X.T,H*(1-H)*np.dot(Y-T,W2.T))\n",
    "    #↓EをBで偏微分する\n",
    "    dB1 = np.sum(H*(1-H)*np.dot(Y-T,W2.T), axis=0, keepdims=True)\n",
    "    #↓重みの更新\n",
    "    W1 = W1-eta*dW1\n",
    "    W2 = W2-eta*dW2\n",
    "    #↓バイアスの更新\n",
    "    B1 = B1-eta*dB1\n",
    "    B2 = B2-eta*dB2"
   ]
  },
  {
   "cell_type": "markdown",
   "metadata": {},
   "source": [
    "## 学習結果のプロット"
   ]
  },
  {
   "cell_type": "code",
   "execution_count": 50,
   "metadata": {},
   "outputs": [
    {
     "data": {
      "image/png": "[encoded data removed]",
      "text/plain": [
       "<Figure size 432x288 with 1 Axes>"
      ]
     },
     "metadata": {
      "needs_background": "light"
     },
     "output_type": "display_data"
    }
   ],
   "source": [
    "#グリッドの最小値と最大値の決定\n",
    "#↓x1のmin値-1とmax値+1を保存する\n",
    "x1_min = X[:,0].min()-1\n",
    "x1_max = X[:,0].max()+1\n",
    "#↓x2のmin値-1とmax値+1を保存する\n",
    "x2_min = X[:,1].min()-1\n",
    "x2_max = X[:,1].max()+1\n",
    "\n",
    "#グリッドの細かさ指定\n",
    "#↓x1方向に100刻み\n",
    "x1_grid = np.linspace(x1_min,x1_max,100)\n",
    "#↓x2方向に100刻み                    \n",
    "x2_grid = np.linspace(x2_min,x2_max,100)\n",
    "\n",
    "#グリッドをプロットするためのデータ生成\n",
    "#↓xxにグリッドのx1データ，yyにグリッドのx2データを保存\n",
    "xx,yy = np.meshgrid(x1_grid,x2_grid)\n",
    "\n",
    "#xx,yyを二次配列にまとめる\n",
    "#↓1列目がx1データ，2列目がx2データとなるようにまとめる\n",
    "X_grid = np.c_[xx.reshape(-1),yy.reshape(-1)]\n",
    "\n",
    "#学習結果を色で表現するためにデータを用意\n",
    "#↓学習結果のyデータを生成\n",
    "H_grid = sigmoid(np.dot(X_grid,W1)+B1)\n",
    "Y_grid = softmax(np.dot(H_grid,W2)+B2)\n",
    "\n",
    "#↓学習結果のyデータを1次元にする\n",
    "Y_vector = np.argmax(Y_grid,axis=1)\n",
    "\n",
    "#↓学習結果をone-hot表現にする\n",
    "Y = np.eye(len(np.unique(Y_vector)))[Y_vector]\n",
    "\n",
    "#プロットを行う\n",
    "#↓正解データを点でプロット\n",
    "for i in np.unique(T_vector):\n",
    "    plt.scatter(x=X[T_vector==i,0],y=X[T_vector==i,1],s=10,c=colors[i])\n",
    "#↓学習結果をグリッドでプロット\n",
    "for i in np.unique(Y_vector):\n",
    "    plt.scatter(x=X_grid[Y_vector==i,0],y=X_grid[Y_vector==i,1],s=10,c=colors[i],alpha=0.1)\n",
    "plt.title(\"Learning result\",fontsize=25)\n",
    "plt.xlabel(\"X1\",fontsize=18)\n",
    "plt.ylabel(\"X2\",fontsize=18)\n",
    "plt.show()"
   ]
  },
  {
   "cell_type": "markdown",
   "metadata": {},
   "source": [
    "## 損失推移のプロット"
   ]
  },
  {
   "cell_type": "code",
   "execution_count": 48,
   "metadata": {},
   "outputs": [
    {
     "data": {
      "image/png": "[encoded data removed]",
      "text/plain": [
       "<Figure size 432x288 with 1 Axes>"
      ]
     },
     "metadata": {
      "needs_background": "light"
     },
     "output_type": "display_data"
    }
   ],
   "source": [
    "#プロットを行う\n",
    "#↓損失とイテレーション数の関係を点でプロット\n",
    "plt.plot(E_save)\n",
    "plt.title(\"Loss Function\",fontsize=25)\n",
    "plt.xlabel(\"Iteration Number\",fontsize=18)\n",
    "plt.ylabel(\"Loss Value(E)\",fontsize=18)\n",
    "#plt.ylim(0,50)\n",
    "plt.show()"
   ]
  },
  {
   "cell_type": "code",
   "execution_count": null,
   "metadata": {},
   "outputs": [],
   "source": []
  }
 ],
 "metadata": {
  "kernelspec": {
   "display_name": "Python 3",
   "language": "python",
   "name": "python3"
  },
  "language_info": {
   "codemirror_mode": {
    "name": "ipython",
    "version": 3
   },
   "file_extension": ".py",
   "mimetype": "text/x-python",
   "name": "python",
   "nbconvert_exporter": "python",
   "pygments_lexer": "ipython3",
   "version": "3.7.4"
  }
 },
 "nbformat": 4,
 "nbformat_minor": 2
}
